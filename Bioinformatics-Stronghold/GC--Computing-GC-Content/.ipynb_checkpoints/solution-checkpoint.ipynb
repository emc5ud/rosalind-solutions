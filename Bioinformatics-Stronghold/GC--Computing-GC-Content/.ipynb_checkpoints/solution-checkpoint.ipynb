{
 "cells": [
  {
   "cell_type": "markdown",
   "metadata": {},
   "source": [
    "# Computing GC Content\n",
    "\n",
    "http://rosalind.info/problems/gc/\n",
    "\n",
    "## Problem\n",
    "\n",
    "The GC-content of a DNA string is given by the percentage of symbols in the string that are 'C' or 'G'. For example, the GC-content of \"AGCTATAG\" is 37.5%. Note that the reverse complement of any DNA string has the same GC-content.\n",
    "\n",
    "DNA strings must be labeled when they are consolidated into a database. A commonly used method of string labeling is called FASTA format. In this format, the string is introduced by a line that begins with '>', followed by some labeling information. Subsequent lines contain the string itself; the first line to begin with '>' indicates the label of the next string.\n",
    "\n",
    "In Rosalind's implementation, a string in FASTA format will be labeled by the ID \"Rosalind_xxxx\", where \"xxxx\" denotes a four-digit code between 0000 and 9999.\n",
    "\n",
    "**Given**: At most 10 DNA strings in FASTA format (of length at most 1 kbp each).\n",
    "\n",
    "**Return**: The ID of the string having the highest GC-content, followed by the GC-content of that string. Rosalind allows for a default error of 0.001 in all decimal answers unless otherwise stated; please see the note on absolute error below.\n",
    "\n"
   ]
  },
  {
   "cell_type": "code",
   "execution_count": 1,
   "metadata": {
    "collapsed": true
   },
   "outputs": [],
   "source": [
    "# Sample Dataset\n",
    "lines = ['>Rosalind_6404',\n",
    "'CCTGCGGAAGATCGGCACTAGAATAGCCAGAACCGTTTCTCTGAGGCTTCCGGCCTTCCC',\n",
    "'TCCCACTAATAATTCTGAGG',\n",
    "'>Rosalind_5959',\n",
    "'CCATCGGTAGCGCATCCTTAGTCCAATTAAGTCCCTATCCAGGCGCTCCGCCGAAGGTCT',\n",
    "'ATATCCATTTGTCAGCAGACACGC',\n",
    "'>Rosalind_0808',\n",
    "'CCACCCTCGTGGTATGGCTAGGCATTCAGGAACCGGAGAACGCTTCAGACCAGCCCGGAC',\n",
    "'TGGGAACCTGCGGGCAGTAGGTGGAAT']"
   ]
  },
  {
   "cell_type": "code",
   "execution_count": 31,
   "metadata": {},
   "outputs": [],
   "source": [
    "def fasta_read(lines):\n",
    "    strings = {}\n",
    "    i = 0\n",
    "    while i < len(lines):\n",
    "        key = lines[i][1:]\n",
    "        i += 1\n",
    "        string = ''\n",
    "        while i < len(lines) and lines[i][0] !=  '>':\n",
    "            string += lines[i]\n",
    "            i += 1\n",
    "        strings[key] = string\n",
    "    return strings\n",
    " \n",
    "def gc_content(string):\n",
    "    return sum(map(string.count, ['G','C'])) / len(string)\n",
    "\n",
    "def solution(lines):\n",
    "    strings = fasta_read(lines)\n",
    "    gcs  = {k: gc_content(v) for k, v in strings.items()}\n",
    "    max_k = max(gcs.items(), key=operator.itemgetter(1))[0]\n",
    "    print(max_k)\n",
    "    print(gcs[max_k]*100)\n"
   ]
  },
  {
   "cell_type": "code",
   "execution_count": 32,
   "metadata": {},
   "outputs": [
    {
     "name": "stdout",
     "output_type": "stream",
     "text": [
      "Rosalind_0808\n",
      "60.91954022988506\n"
     ]
    }
   ],
   "source": [
    "# Sample  Output\n",
    "solution(lines)"
   ]
  },
  {
   "cell_type": "code",
   "execution_count": 34,
   "metadata": {},
   "outputs": [
    {
     "name": "stdout",
     "output_type": "stream",
     "text": [
      "Rosalind_9752\n",
      "52.517162471395885\n"
     ]
    }
   ],
   "source": [
    "f = open('/Users/eculbertson/Downloads/rosalind_gc.txt').readlines()\n",
    "strings = list(map(lambda x: x.strip(), f))\n",
    "solution(strings)"
   ]
  },
  {
   "cell_type": "code",
   "execution_count": 35,
   "metadata": {},
   "outputs": [
    {
     "data": {
      "text/plain": [
       "126"
      ]
     },
     "execution_count": 35,
     "metadata": {},
     "output_type": "execute_result"
    }
   ],
   "source": [
    "len(strings)"
   ]
  },
  {
   "cell_type": "code",
   "execution_count": null,
   "metadata": {
    "collapsed": true
   },
   "outputs": [],
   "source": []
  }
 ],
 "metadata": {
  "kernelspec": {
   "display_name": "Python 3",
   "language": "python",
   "name": "python3"
  },
  "language_info": {
   "codemirror_mode": {
    "name": "ipython",
    "version": 3
   },
   "file_extension": ".py",
   "mimetype": "text/x-python",
   "name": "python",
   "nbconvert_exporter": "python",
   "pygments_lexer": "ipython3",
   "version": "3.6.2"
  }
 },
 "nbformat": 4,
 "nbformat_minor": 2
}
