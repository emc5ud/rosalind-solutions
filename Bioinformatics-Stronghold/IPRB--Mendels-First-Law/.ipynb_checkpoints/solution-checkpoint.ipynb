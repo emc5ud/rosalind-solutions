{
 "cells": [
  {
   "cell_type": "markdown",
   "metadata": {},
   "source": [
    "# Medel's First Law\n",
    "http://rosalind.info/problems/iprb/\n",
    "\n",
    "## Problem\n",
    "\n",
    "\n",
    "Figure 2. The probability of any outcome (leaf) in a probability tree diagram is given by the product of probabilities from the start of the tree to the outcome. For example, the probability that X is blue and Y is blue is equal to (2/5)(1/4), or 1/10.\n",
    "Probability is the mathematical study of randomly occurring phenomena. We will model such a phenomenon with a random variable, which is simply a variable that can take a number of different distinct outcomes depending on the result of an underlying random process.\n",
    "\n",
    "For example, say that we have a bag containing 3 red balls and 2 blue balls. If we let X represent the random variable corresponding to the color of a drawn ball, then the probability of each of the two outcomes is given by Pr(X=red)=35 and Pr(X=blue)=25.\n",
    "\n",
    "Random variables can be combined to yield new random variables. Returning to the ball example, let Y model the color of a second ball drawn from the bag (without replacing the first ball). The probability of Y being red depends on whether the first ball was red or blue. To represent all outcomes of X and Y, we therefore use a probability tree diagram. This branching diagram represents all possible individual probabilities for X and Y, with outcomes at the endpoints (\"leaves\") of the tree. The probability of any outcome is given by the product of probabilities along the path from the beginning of the tree; see Figure 2 for an illustrative example.\n",
    "\n",
    "An event is simply a collection of outcomes. Because outcomes are distinct, the probability of an event can be written as the sum of the probabilities of its constituent outcomes. For our colored ball example, let A be the event \"Y is blue.\" Pr(A) is equal to the sum of the probabilities of two different outcomes: Pr(X=blue and Y=blue)+Pr(X=red and Y=blue), or 310+110=25 (see Figure 2 above).\n",
    "\n",
    "**Given**: Three positive integers k, m, and n, representing a population containing k+m+n organisms: k individuals are homozygous dominant for a factor, m are heterozygous, and n are homozygous recessive.\n",
    "\n",
    "**Return**: The probability that two randomly selected mating organisms will produce an individual possessing a dominant allele (and thus displaying the dominant phenotype). Assume that any two organisms can mate.\n",
    "\n"
   ]
  },
  {
   "cell_type": "code",
   "execution_count": 1,
   "metadata": {
    "collapsed": true
   },
   "outputs": [],
   "source": [
    "# Sample Dataset\n",
    "s = '5 3'"
   ]
  },
  {
   "cell_type": "code",
   "execution_count": 31,
   "metadata": {
    "collapsed": true
   },
   "outputs": [],
   "source": [
    "def reproduce(last, current, k):\n",
    "    return current + k*last\n",
    "def solution(s):\n",
    "    n, k = list(map(int, s.split()))\n",
    "    current = 1\n",
    "    last    = 1\n",
    "    print(1)\n",
    "    print(1)\n",
    "    for _ in range(2,n):\n",
    "        tmp = current\n",
    "        current = reproduce(last, current, k)\n",
    "        last = tmp\n",
    "        print(current)"
   ]
  },
  {
   "cell_type": "code",
   "execution_count": 32,
   "metadata": {},
   "outputs": [
    {
     "name": "stdout",
     "output_type": "stream",
     "text": [
      "1\n",
      "1\n",
      "5\n",
      "9\n",
      "29\n"
     ]
    }
   ],
   "source": [
    "# Sample  Output\n",
    "solution('5 4')"
   ]
  },
  {
   "cell_type": "code",
   "execution_count": 43,
   "metadata": {},
   "outputs": [
    {
     "name": "stdout",
     "output_type": "stream",
     "text": [
      "1\n",
      "1\n",
      "5\n",
      "9\n",
      "29\n",
      "65\n",
      "181\n",
      "441\n",
      "1165\n",
      "2929\n",
      "7589\n",
      "19305\n",
      "49661\n",
      "126881\n",
      "325525\n",
      "833049\n",
      "2135149\n",
      "5467345\n",
      "14007941\n",
      "35877321\n",
      "91909085\n",
      "235418369\n",
      "603054709\n",
      "1544728185\n",
      "3956947021\n",
      "10135859761\n",
      "25963647845\n",
      "66507086889\n",
      "170361678269\n",
      "436390025825\n",
      "1117836738901\n",
      "2863396842201\n",
      "7334743797805\n",
      "18788331166609\n"
     ]
    }
   ],
   "source": [
    "f = open('/Users/eculbertson/Downloads/rosalind_fib.txt').readlines()\n",
    "string = f[0].strip()\n",
    "solution(string)"
   ]
  },
  {
   "cell_type": "code",
   "execution_count": 44,
   "metadata": {},
   "outputs": [
    {
     "data": {
      "text/plain": [
       "'34 4'"
      ]
     },
     "execution_count": 44,
     "metadata": {},
     "output_type": "execute_result"
    }
   ],
   "source": [
    "string"
   ]
  },
  {
   "cell_type": "code",
   "execution_count": null,
   "metadata": {
    "collapsed": true
   },
   "outputs": [],
   "source": []
  }
 ],
 "metadata": {
  "kernelspec": {
   "display_name": "Python 3",
   "language": "python",
   "name": "python3"
  },
  "language_info": {
   "codemirror_mode": {
    "name": "ipython",
    "version": 3
   },
   "file_extension": ".py",
   "mimetype": "text/x-python",
   "name": "python",
   "nbconvert_exporter": "python",
   "pygments_lexer": "ipython3",
   "version": "3.6.2"
  }
 },
 "nbformat": 4,
 "nbformat_minor": 2
}
