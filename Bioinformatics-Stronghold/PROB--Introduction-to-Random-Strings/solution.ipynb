{
 "cells": [
  {
   "cell_type": "markdown",
   "metadata": {},
   "source": [
    "# Introduction to Random Strings\n",
    "http://rosalind.info/problems/prob/\n",
    "\n",
    "## Problem\n",
    "\n",
    "**Given**: A DNA string s of length at most 100 bp and an array A containing at most 20 numbers between 0 and 1.\n",
    "\n",
    "**Return**: An array B having the same length as A in which B[k] represents the common logarithm of the probability that a random string constructed with the GC-content found in A[k] will match s exactly."
   ]
  },
  {
   "cell_type": "code",
   "execution_count": 23,
   "metadata": {},
   "outputs": [],
   "source": [
    "# Sample Dataset\n",
    "sample = '''ACGATACAA\n",
    "0.129 0.287 0.423 0.476 0.641 0.742 0.783'''"
   ]
  },
  {
   "cell_type": "code",
   "execution_count": 39,
   "metadata": {},
   "outputs": [],
   "source": [
    "import math\n",
    "def solution(s, A):\n",
    "    B = [0]*len(A)\n",
    "\n",
    "    for idx, gc in enumerate(A):\n",
    "        probs = {'A': (1 - gc)/2, 'C':gc / 2 , 'G': gc/ 2, 'T':(1 - gc)/2}\n",
    "        B[idx] = sum([math.log10(probs[c]) for c in s])\n",
    "    print(' '.join([str(round(x, 3)) for x in B]))"
   ]
  },
  {
   "cell_type": "code",
   "execution_count": 5,
   "metadata": {},
   "outputs": [
    {
     "name": "stdout",
     "output_type": "stream",
     "text": [
      "20 12 17 21\n"
     ]
    }
   ],
   "source": [
    "# Sample  Output\n",
    "solution(s)"
   ]
  },
  {
   "cell_type": "code",
   "execution_count": 45,
   "metadata": {},
   "outputs": [
    {
     "name": "stdout",
     "output_type": "stream",
     "text": [
      "-99.884 -83.827 -76.184 -73.513 -68.84 -65.9 -63.765 -61.971 -60.406 -59.542 -59.5 -60.221 -60.506 -62.466 -65.456 -70.665 -80.496\n"
     ]
    }
   ],
   "source": [
    "f = open('/home/eric/Downloads/rosalind_prob.txt').readlines()\n",
    "s = f[0].strip()\n",
    "A = list(map(float, f[1].split()))\n",
    "solution(s, A)"
   ]
  }
 ],
 "metadata": {
  "kernelspec": {
   "display_name": "Python [default]",
   "language": "python",
   "name": "python3"
  },
  "language_info": {
   "codemirror_mode": {
    "name": "ipython",
    "version": 3
   },
   "file_extension": ".py",
   "mimetype": "text/x-python",
   "name": "python",
   "nbconvert_exporter": "python",
   "pygments_lexer": "ipython3",
   "version": "3.7.0"
  }
 },
 "nbformat": 4,
 "nbformat_minor": 2
}
