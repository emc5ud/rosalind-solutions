{
 "cells": [
  {
   "cell_type": "markdown",
   "metadata": {},
   "source": [
    "# A Rapid Introduction to Molecular Biology\n",
    "\n",
    "\n",
    "## Problem\n",
    "\n",
    "An RNA string is a string formed from the alphabet containing 'A', 'C', 'G', and 'U'.\n",
    "\n",
    "Given a DNA string t corresponding to a coding strand, its transcribed RNA string u is formed by replacing all occurrences of 'T' in t with 'U' in u.\n",
    "\n",
    "**Given**: A DNA string t having length at most 1000 nt.\n",
    "\n",
    "**Return**: The transcribed RNA string of t."
   ]
  },
  {
   "cell_type": "code",
   "execution_count": 2,
   "metadata": {
    "collapsed": true
   },
   "outputs": [],
   "source": [
    "# Sample Dataset\n",
    "s = 'GATGGAACTTGACTACGTAAATT'"
   ]
  },
  {
   "cell_type": "code",
   "execution_count": 3,
   "metadata": {
    "collapsed": true
   },
   "outputs": [],
   "source": [
    "def solution(s): \n",
    "    print(s.replace('T', 'U'))"
   ]
  },
  {
   "cell_type": "code",
   "execution_count": 4,
   "metadata": {},
   "outputs": [
    {
     "name": "stdout",
     "output_type": "stream",
     "text": [
      "GAUGGAACUUGACUACGUAAAUU\n"
     ]
    }
   ],
   "source": [
    "# Sample  Output\n",
    "solution(s)"
   ]
  },
  {
   "cell_type": "code",
   "execution_count": 5,
   "metadata": {},
   "outputs": [
    {
     "name": "stdout",
     "output_type": "stream",
     "text": [
      "UUCUACAAAAGACAGCGGAGGGCCUGAUACAGCGACAGGUGCACAUUUACCUUUCGAUGUGUCCAUCGUGUUGAAUCUUGAAAUUCGACAAGGUGCAGGCUGAGGAGAAGGAAGACACGCAAGACCGAUACGCUACUGAGUCUAUGGGCGUGGACCUUGAACAGACGGAUGUCGGUAGUUAGGAAGUCCUUAUUCCGGUGUACUACUCCUCAUUGUAAAAAUGUACGCGCUGAUUUGCUAUUCCAGCUAGAAUGCGAGGUACUACGUAUCGUCCUCGAACGCUUGACCCGGAAUUUCAUAGCACGGGUUCCAAAUAACAGGUAGUUGAUAAGGAUCAUGUGCCGGUACAUUCAGUAUUACCUGGCGGAACGAUAUGUCGGCCUCGCAAUCGCACGGGUGUACCCGCGGACUCGUCUUCCGCGUCGAGCAGCAAGGGGUUAAUAUGCCUCGUAACACAAUUCCACCAGCCAAUGCCCUAUUUGCCAAUAAUCGCAUCAUCAGUUCCGCUUGCAACAUUUAGGUGGAUUUAAGCUCCUGACCAUGGCUAGAUGGUUAUCGUGAUGCAAGUUUUCUAUCAUUACCGGCUAAAAUUCGCAGUCGGUCUCCCCACACGUAGGUUGACAACUCUGCAUUUUCAGACCUUCCAACUGACACUGUCCCCACGAUCACCAGGUUCGUCGCAGCGCUCCUUCUCCUAGUGCCUGCGAUAGAAUGUUGCCCUUGCAACCCAUUGCUCAUCCCCUUCUAGGUACGUUAUGCGUUACGUUACAUUGGUGCUAUGCAGCUGAGUAAUCGAAAUCGACCCGCUCCAGCUAGAUUGCCCCUCUCGGCUUCAUUCCUGCGAUACCCUAUGCGACAAAGGGACACUAACGAAGGCGGGCAAGGUCGAAACCAAUGUCAUGGGAUGCA\n"
     ]
    }
   ],
   "source": [
    "f = open('/Users/eculbertson/Downloads/rosalind_rna.txt').readlines()\n",
    "string = f[0].strip()\n",
    "solution(string)"
   ]
  },
  {
   "cell_type": "code",
   "execution_count": null,
   "metadata": {
    "collapsed": true
   },
   "outputs": [],
   "source": []
  }
 ],
 "metadata": {
  "kernelspec": {
   "display_name": "Python 3",
   "language": "python",
   "name": "python3"
  },
  "language_info": {
   "codemirror_mode": {
    "name": "ipython",
    "version": 3
   },
   "file_extension": ".py",
   "mimetype": "text/x-python",
   "name": "python",
   "nbconvert_exporter": "python",
   "pygments_lexer": "ipython3",
   "version": "3.6.2"
  }
 },
 "nbformat": 4,
 "nbformat_minor": 2
}
