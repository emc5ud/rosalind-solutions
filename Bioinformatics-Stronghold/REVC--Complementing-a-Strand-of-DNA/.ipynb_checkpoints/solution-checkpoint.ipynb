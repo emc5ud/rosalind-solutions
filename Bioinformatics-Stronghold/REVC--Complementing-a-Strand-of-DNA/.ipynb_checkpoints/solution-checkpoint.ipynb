{
 "cells": [
  {
   "cell_type": "markdown",
   "metadata": {},
   "source": [
    "# The Secondary and Tertiary Structures of DNA\n",
    "\n",
    "http://rosalind.info/problems/revc/\n",
    "\n",
    "## Problem\n",
    "\n",
    "Problem\n",
    "In DNA strings, symbols 'A' and 'T' are complements of each other, as are 'C' and 'G'.\n",
    "\n",
    "The reverse complement of a DNA string s is the string sc formed by reversing the symbols of s, then taking the complement of each symbol (e.g., the reverse complement of \"GTCA\" is \"TGAC\").\n",
    "\n",
    "**Given**: A DNA string s of length at most 1000 bp.\n",
    "\n",
    "**Return**: The reverse complement *s<sup>c</sup>* of *s*."
   ]
  },
  {
   "cell_type": "code",
   "execution_count": 5,
   "metadata": {
    "collapsed": true
   },
   "outputs": [],
   "source": [
    "# Sample Dataset\n",
    "s = 'AAAACCCGGT'"
   ]
  },
  {
   "cell_type": "code",
   "execution_count": 8,
   "metadata": {
    "collapsed": true
   },
   "outputs": [],
   "source": [
    "comp_dict = {'A':'T', 'T':'A', 'C':'G','G': 'C'}\n",
    "\n",
    "def rev_comp(s):\n",
    "    return ''.join([comp_dict[c] for c in s[::-1]])\n",
    "\n",
    "def solution(s): \n",
    "    print(rev_comp(s))\n",
    "    "
   ]
  },
  {
   "cell_type": "code",
   "execution_count": 9,
   "metadata": {},
   "outputs": [
    {
     "name": "stdout",
     "output_type": "stream",
     "text": [
      "ACCGGGTTTT\n"
     ]
    }
   ],
   "source": [
    "# Sample  Output\n",
    "solution(s)"
   ]
  },
  {
   "cell_type": "code",
   "execution_count": 10,
   "metadata": {},
   "outputs": [
    {
     "name": "stdout",
     "output_type": "stream",
     "text": [
      "ATGAAAGAGGCGCAGTTTACAACACTACAACGCAGTTCATTAATGTTATGACAGGTTTTTCGTAGACGTGATTAACTTCGACCCCAGTCGACCGGCCTTAAGAATTGTACCGAATAAAATATCATAACTTTGCCTCTAAACGCGCGATCCGAACCCCGGCACACACCATCCTCTGGCGAACCTGCCGTGGACATAAGAATGAGCCTTTACCGAAGAAGCTTTGTTCGAACAAACCACTGTAGCCAGGTTTCGGTTAATTACCGTGCTATGGTTTTCCGGCTATGACCTTAAGTGAAGCTATTGACCGCAGTGCAAACCAGACTACGTTTACGCAACGTTTCCCAATCACCGTTCGTCCCATGGGCATCGGTCGACCTAGCTGACCGCAGCACAGTAACGGACTGAACGTAGATCCAAATCAGTGAGGGTTGGGTGATGTCCTCCCTATGGAGCACAAGAGCATACAATTGACTTCAAGATGGCCAGAAGACTTAAACCCATAAAAAAAGATGTGGCAAAGGCGCTCGTTTGAAGCCGACTACGGGGCCCGGTAACATGCGAGTTCGCGACTATGGCTTTTAACAGAGAGCCTCGAGGATATACGTCGCCCGCTTATAAGGGAGGCCGACAGATAGTTGTGCCAGGGCATATAGGATATTAGCCCCTTGACAGGGTCATGTAACCCGCCTTGGGGGTTCGAGTACAACCGTATTGCGATCATACGTCGCAGTCCCAACGCAACAAGGTAGACAGGCCAATGGAGACACCCAGCCCAGTTCCAAGATTAATAAACTGACGGACTCCGGCTACCCGCTAG\n"
     ]
    }
   ],
   "source": [
    "f = open('/Users/eculbertson/Downloads/rosalind_revc.txt').readlines()\n",
    "string = f[0].strip()\n",
    "solution(string)"
   ]
  }
 ],
 "metadata": {
  "kernelspec": {
   "display_name": "Python 3",
   "language": "python",
   "name": "python3"
  },
  "language_info": {
   "codemirror_mode": {
    "name": "ipython",
    "version": 3
   },
   "file_extension": ".py",
   "mimetype": "text/x-python",
   "name": "python",
   "nbconvert_exporter": "python",
   "pygments_lexer": "ipython3",
   "version": "3.6.2"
  }
 },
 "nbformat": 4,
 "nbformat_minor": 2
}
