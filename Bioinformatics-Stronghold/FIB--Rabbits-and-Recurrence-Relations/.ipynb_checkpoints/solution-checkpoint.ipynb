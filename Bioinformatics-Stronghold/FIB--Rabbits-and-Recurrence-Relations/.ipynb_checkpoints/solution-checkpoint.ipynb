{
 "cells": [
  {
   "cell_type": "markdown",
   "metadata": {},
   "source": [
    "# Rabbits and Recurrence Relations\n",
    "\n",
    "http://rosalind.info/problems/fib/\n",
    "\n",
    "## Problem\n",
    "\n",
    "A sequence is an ordered collection of objects (usually numbers), which are allowed to repeat. Sequences can be finite or infinite. Two examples are the finite sequence (π,−2‾√,0,π) and the infinite sequence of odd numbers (1,3,5,7,9,…). We use the notation an to represent the n-th term of a sequence.\n",
    "\n",
    "A recurrence relation is a way of defining the terms of a sequence with respect to the values of previous terms. In the case of Fibonacci's rabbits from the introduction, any given month will contain the rabbits that were alive the previous month, plus any new offspring. A key observation is that the number of offspring in any month is equal to the number of rabbits that were alive two months prior. As a result, if Fn represents the number of rabbit pairs alive after the n-th month, then we obtain the Fibonacci sequence having terms Fn that are defined by the recurrence relation Fn=Fn−1+Fn−2 (with F1=F2=1 to initiate the sequence). Although the sequence bears Fibonacci's name, it was known to Indian mathematicians over two millennia ago.\n",
    "\n",
    "When finding the n-th term of a sequence defined by a recurrence relation, we can simply use the recurrence relation to generate terms for progressively larger values of n. This problem introduces us to the computational technique of dynamic programming, which successively builds up solutions by using the answers to smaller cases.\n",
    "\n",
    "**Given**: Positive integers n≤40 and k≤5.\n",
    "\n",
    "**Return**: The total number of rabbit pairs that will be present after n months, if we begin with 1 pair and in each generation, every pair of reproduction-age rabbits produces a litter of k rabbit pairs (instead of only 1 pair)."
   ]
  },
  {
   "cell_type": "code",
   "execution_count": 5,
   "metadata": {
    "collapsed": true
   },
   "outputs": [],
   "source": [
    "# Sample Dataset\n",
    "s = '5 3'"
   ]
  },
  {
   "cell_type": "code",
   "execution_count": 8,
   "metadata": {
    "collapsed": true
   },
   "outputs": [],
   "source": [
    "def solution(s):\n",
    "    s.split()\n",
    "    print(rev_comp(s))\n",
    "    "
   ]
  },
  {
   "cell_type": "code",
   "execution_count": 9,
   "metadata": {},
   "outputs": [
    {
     "name": "stdout",
     "output_type": "stream",
     "text": [
      "ACCGGGTTTT\n"
     ]
    }
   ],
   "source": [
    "# Sample  Output\n",
    "solution(s)"
   ]
  },
  {
   "cell_type": "code",
   "execution_count": 10,
   "metadata": {},
   "outputs": [
    {
     "name": "stdout",
     "output_type": "stream",
     "text": [
      "ATGAAAGAGGCGCAGTTTACAACACTACAACGCAGTTCATTAATGTTATGACAGGTTTTTCGTAGACGTGATTAACTTCGACCCCAGTCGACCGGCCTTAAGAATTGTACCGAATAAAATATCATAACTTTGCCTCTAAACGCGCGATCCGAACCCCGGCACACACCATCCTCTGGCGAACCTGCCGTGGACATAAGAATGAGCCTTTACCGAAGAAGCTTTGTTCGAACAAACCACTGTAGCCAGGTTTCGGTTAATTACCGTGCTATGGTTTTCCGGCTATGACCTTAAGTGAAGCTATTGACCGCAGTGCAAACCAGACTACGTTTACGCAACGTTTCCCAATCACCGTTCGTCCCATGGGCATCGGTCGACCTAGCTGACCGCAGCACAGTAACGGACTGAACGTAGATCCAAATCAGTGAGGGTTGGGTGATGTCCTCCCTATGGAGCACAAGAGCATACAATTGACTTCAAGATGGCCAGAAGACTTAAACCCATAAAAAAAGATGTGGCAAAGGCGCTCGTTTGAAGCCGACTACGGGGCCCGGTAACATGCGAGTTCGCGACTATGGCTTTTAACAGAGAGCCTCGAGGATATACGTCGCCCGCTTATAAGGGAGGCCGACAGATAGTTGTGCCAGGGCATATAGGATATTAGCCCCTTGACAGGGTCATGTAACCCGCCTTGGGGGTTCGAGTACAACCGTATTGCGATCATACGTCGCAGTCCCAACGCAACAAGGTAGACAGGCCAATGGAGACACCCAGCCCAGTTCCAAGATTAATAAACTGACGGACTCCGGCTACCCGCTAG\n"
     ]
    }
   ],
   "source": [
    "f = open('/Users/eculbertson/Downloads/rosalind_revc.txt').readlines()\n",
    "string = f[0].strip()\n",
    "solution(string)"
   ]
  }
 ],
 "metadata": {
  "kernelspec": {
   "display_name": "Python 3",
   "language": "python",
   "name": "python3"
  },
  "language_info": {
   "codemirror_mode": {
    "name": "ipython",
    "version": 3
   },
   "file_extension": ".py",
   "mimetype": "text/x-python",
   "name": "python",
   "nbconvert_exporter": "python",
   "pygments_lexer": "ipython3",
   "version": "3.6.2"
  }
 },
 "nbformat": 4,
 "nbformat_minor": 2
}
