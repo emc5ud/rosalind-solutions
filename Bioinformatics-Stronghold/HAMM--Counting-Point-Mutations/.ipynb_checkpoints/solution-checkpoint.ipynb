{
 "cells": [
  {
   "cell_type": "markdown",
   "metadata": {},
   "source": [
    "# Counting Point Mutations\n",
    "\n",
    "\n",
    "## Problem\n",
    "\n",
    "Given two strings s and t of equal length, the Hamming distance between s and t, denoted dH(s,t), is the number of corresponding symbols that differ in s and t. See Figure 2.\n",
    "\n",
    "**Given**: Two DNA strings s and t of equal length (not exceeding 1 kbp).\n",
    "\n",
    "**Return**: The Hamming distance dH(s,t).\n"
   ]
  },
  {
   "cell_type": "code",
   "execution_count": 2,
   "metadata": {
    "collapsed": true
   },
   "outputs": [],
   "source": [
    "# Sample Dataset\n",
    "sample = ['GAGCCTACTAACGGGAT',\n",
    "          'CATCGTAATGACGGCCT']"
   ]
  },
  {
   "cell_type": "code",
   "execution_count": 3,
   "metadata": {
    "collapsed": true
   },
   "outputs": [],
   "source": [
    "def solution(line1, line2): \n",
    "    print(sum(c1 != c2 for c1, c2 in zip(line1, line2)))"
   ]
  },
  {
   "cell_type": "code",
   "execution_count": 5,
   "metadata": {},
   "outputs": [
    {
     "name": "stdout",
     "output_type": "stream",
     "text": [
      "7\n"
     ]
    }
   ],
   "source": [
    "# Sample  Output\n",
    "solution(sample[0], sample[1])"
   ]
  },
  {
   "cell_type": "code",
   "execution_count": 6,
   "metadata": {},
   "outputs": [
    {
     "name": "stdout",
     "output_type": "stream",
     "text": [
      "464\n"
     ]
    }
   ],
   "source": [
    "f = open('/Users/eculbertson/Downloads/rosalind_hamm.txt').readlines()\n",
    "solution(f[0], f[1])"
   ]
  },
  {
   "cell_type": "code",
   "execution_count": 8,
   "metadata": {},
   "outputs": [],
   "source": [
    "f1 = open('/Users/eculbertson/rosalind-solutions/Bioinformatics-Stronghold/names').readlines()"
   ]
  },
  {
   "cell_type": "code",
   "execution_count": 35,
   "metadata": {},
   "outputs": [
    {
     "name": "stdout",
     "output_type": "stream",
     "text": [
      "/Users/eculbertson/rosalind-solutions/Bioinformatics-Stronghold/IPRB--Mendel's-First-Law/solution.ipynb\n",
      "/Users/eculbertson/rosalind-solutions/Bioinformatics-Stronghold/PROT--Translating-RNA-into-Protein/solution.ipynb\n",
      "/Users/eculbertson/rosalind-solutions/Bioinformatics-Stronghold/SUBS--Finding-a-Motif-in-DNA/solution.ipynb\n",
      "/Users/eculbertson/rosalind-solutions/Bioinformatics-Stronghold/FIBD--Mortal-Fibonacci-Rabbits/solution.ipynb\n",
      "/Users/eculbertson/rosalind-solutions/Bioinformatics-Stronghold/IEV--Calculating-Expected-Offspring/solution.ipynb\n",
      "/Users/eculbertson/rosalind-solutions/Bioinformatics-Stronghold/LIA--Independent-Alleles/solution.ipynb\n",
      "/Users/eculbertson/rosalind-solutions/Bioinformatics-Stronghold/PERM--Enumerating-Gene-Orders/solution.ipynb\n",
      "/Users/eculbertson/rosalind-solutions/Bioinformatics-Stronghold/CONS--Consensus-and-Profile/solution.ipynb\n",
      "/Users/eculbertson/rosalind-solutions/Bioinformatics-Stronghold/GRPH--Overlap-Graphs/solution.ipynb\n",
      "/Users/eculbertson/rosalind-solutions/Bioinformatics-Stronghold/LCSM--Finding-a-Shared-Motif/solution.ipynb\n",
      "/Users/eculbertson/rosalind-solutions/Bioinformatics-Stronghold/MPRT--Finding-a-Protein-Motif/solution.ipynb\n",
      "/Users/eculbertson/rosalind-solutions/Bioinformatics-Stronghold/MRNA--Inferring-mRNA-from-Protein/solution.ipynb\n",
      "/Users/eculbertson/rosalind-solutions/Bioinformatics-Stronghold/ORF--Open-Reading-Frames/solution.ipynb\n",
      "/Users/eculbertson/rosalind-solutions/Bioinformatics-Stronghold/PRTM--Calculating-Protein-Mass/solution.ipynb\n",
      "/Users/eculbertson/rosalind-solutions/Bioinformatics-Stronghold/REVP--Locating-Restriction-Sites/solution.ipynb\n",
      "/Users/eculbertson/rosalind-solutions/Bioinformatics-Stronghold/SPLC--RNA-Splicing/solution.ipynb\n",
      "/Users/eculbertson/rosalind-solutions/Bioinformatics-Stronghold/LEXF--Enumerating-k-mers-Lexicographically/solution.ipynb\n",
      "/Users/eculbertson/rosalind-solutions/Bioinformatics-Stronghold/LGIS--Longest-Increasing-Subsequence/solution.ipynb\n",
      "/Users/eculbertson/rosalind-solutions/Bioinformatics-Stronghold/LONG--Genome-Assembly-as-Shortest-Superstring/solution.ipynb\n",
      "/Users/eculbertson/rosalind-solutions/Bioinformatics-Stronghold/PMCH--Perfect-Matchings-and-RNA-Secondary-Structures/solution.ipynb\n",
      "/Users/eculbertson/rosalind-solutions/Bioinformatics-Stronghold/PPER--Partial-Permutations/solution.ipynb\n",
      "/Users/eculbertson/rosalind-solutions/Bioinformatics-Stronghold/PROB--Introduction-to-Random-Strings/solution.ipynb\n",
      "/Users/eculbertson/rosalind-solutions/Bioinformatics-Stronghold/SIGN--Enumerating-Oriented-Gene-Orderings/solution.ipynb\n",
      "/Users/eculbertson/rosalind-solutions/Bioinformatics-Stronghold/SSEQ--Finding-a-Spliced-Motif/solution.ipynb\n",
      "/Users/eculbertson/rosalind-solutions/Bioinformatics-Stronghold/TRAN--Transitions-and-Transversions/solution.ipynb\n",
      "/Users/eculbertson/rosalind-solutions/Bioinformatics-Stronghold/TREE--Completing-a-Tree/solution.ipynb\n",
      "/Users/eculbertson/rosalind-solutions/Bioinformatics-Stronghold/CAT--Catalan-Numbers-and-RNA-Secondary-Structures/solution.ipynb\n",
      "/Users/eculbertson/rosalind-solutions/Bioinformatics-Stronghold/CORR--Error-Correction-in-Reads/solution.ipynb\n",
      "/Users/eculbertson/rosalind-solutions/Bioinformatics-Stronghold/INOD--Counting-Phylogenetic-Ancestors/solution.ipynb\n",
      "/Users/eculbertson/rosalind-solutions/Bioinformatics-Stronghold/KMER--k-Mer-Composition/solution.ipynb\n",
      "/Users/eculbertson/rosalind-solutions/Bioinformatics-Stronghold/KMP--Speeding-Up-Motif-Finding/solution.ipynb\n",
      "/Users/eculbertson/rosalind-solutions/Bioinformatics-Stronghold/LCSQ--Finding-a-Shared-Spliced-Motif/solution.ipynb\n",
      "/Users/eculbertson/rosalind-solutions/Bioinformatics-Stronghold/LEXV--Ordering-Strings-of-Varying-Length-Lexicographically/solution.ipynb\n",
      "/Users/eculbertson/rosalind-solutions/Bioinformatics-Stronghold/MMCH--Maximum-Matchings-and-RNA-Secondary-Structures/solution.ipynb\n",
      "/Users/eculbertson/rosalind-solutions/Bioinformatics-Stronghold/PDST--Creating-a-Distance-Matrix/solution.ipynb\n",
      "/Users/eculbertson/rosalind-solutions/Bioinformatics-Stronghold/REAR--Reversal-Distance/solution.ipynb\n",
      "/Users/eculbertson/rosalind-solutions/Bioinformatics-Stronghold/RSTR--Matching-Random-Motifs/solution.ipynb\n",
      "/Users/eculbertson/rosalind-solutions/Bioinformatics-Stronghold/SSET--Counting-Subsets/solution.ipynb\n",
      "/Users/eculbertson/rosalind-solutions/Bioinformatics-Stronghold/ASPC--Introduction-to-Alternative-Splicing/solution.ipynb\n",
      "/Users/eculbertson/rosalind-solutions/Bioinformatics-Stronghold/EDIT--Edit-Distance/solution.ipynb\n",
      "/Users/eculbertson/rosalind-solutions/Bioinformatics-Stronghold/EVAL--Expected-Number-of-Restriction-Sites/solution.ipynb\n",
      "/Users/eculbertson/rosalind-solutions/Bioinformatics-Stronghold/MOTZ--Motzkin-Numbers-and-RNA-Secondary-Structures/solution.ipynb\n",
      "/Users/eculbertson/rosalind-solutions/Bioinformatics-Stronghold/NWCK--Distances-in-Trees/solution.ipynb\n",
      "/Users/eculbertson/rosalind-solutions/Bioinformatics-Stronghold/SCSP--Interleaving-Two-Motifs/solution.ipynb\n",
      "/Users/eculbertson/rosalind-solutions/Bioinformatics-Stronghold/SETO--Introduction-to-Set-Operations/solution.ipynb\n",
      "/Users/eculbertson/rosalind-solutions/Bioinformatics-Stronghold/SORT--Sorting-by-Reversals/solution.ipynb\n",
      "/Users/eculbertson/rosalind-solutions/Bioinformatics-Stronghold/SPEC--Inferring-Protein-from-Spectrum/solution.ipynb\n",
      "/Users/eculbertson/rosalind-solutions/Bioinformatics-Stronghold/TRIE--Introduction-to-Pattern-Matching/solution.ipynb\n",
      "/Users/eculbertson/rosalind-solutions/Bioinformatics-Stronghold/CONV--Comparing-Spectra-with-the-Spectral-Convolution/solution.ipynb\n",
      "/Users/eculbertson/rosalind-solutions/Bioinformatics-Stronghold/CTBL--Creating-a-Character-Table/solution.ipynb\n",
      "/Users/eculbertson/rosalind-solutions/Bioinformatics-Stronghold/DBRU--Constructing-a-De-Bruijn-Graph/solution.ipynb\n",
      "/Users/eculbertson/rosalind-solutions/Bioinformatics-Stronghold/EDTA--Edit-Distance-Alignment/solution.ipynb\n",
      "/Users/eculbertson/rosalind-solutions/Bioinformatics-Stronghold/FULL--Inferring-Peptide-from-Full-Spectrum/solution.ipynb\n",
      "/Users/eculbertson/rosalind-solutions/Bioinformatics-Stronghold/INDC--Independent-Segregation-of-Chromosomes/solution.ipynb\n",
      "/Users/eculbertson/rosalind-solutions/Bioinformatics-Stronghold/ITWV--Finding-Disjoint-Motifs-in-a-Gene/solution.ipynb\n",
      "/Users/eculbertson/rosalind-solutions/Bioinformatics-Stronghold/LREP--Finding-the-Longest-Multiple-Repeat/solution.ipynb\n",
      "/Users/eculbertson/rosalind-solutions/Bioinformatics-Stronghold/NKEW--Newick-Format-with-Edge-Weights/solution.ipynb\n",
      "/Users/eculbertson/rosalind-solutions/Bioinformatics-Stronghold/RNAS--Wobble-Bonding-and-RNA-Secondary-Structures/solution.ipynb\n",
      "/Users/eculbertson/rosalind-solutions/Bioinformatics-Stronghold/AFRQ--Counting-Disease-Carriers/solution.ipynb\n",
      "/Users/eculbertson/rosalind-solutions/Bioinformatics-Stronghold/CSTR--Creating-a-Character-Table-from-Genetic-Strings/solution.ipynb\n",
      "/Users/eculbertson/rosalind-solutions/Bioinformatics-Stronghold/CTEA--Counting-Optimal-Alignments/solution.ipynb\n",
      "/Users/eculbertson/rosalind-solutions/Bioinformatics-Stronghold/CUNR--Counting-Unrooted-Binary-Trees/solution.ipynb\n",
      "/Users/eculbertson/rosalind-solutions/Bioinformatics-Stronghold/GLOB--Global-Alignment-with-Scoring-Matrix/solution.ipynb\n",
      "/Users/eculbertson/rosalind-solutions/Bioinformatics-Stronghold/PCOV--Genome-Assembly-with-Perfect-Coverage/solution.ipynb\n",
      "/Users/eculbertson/rosalind-solutions/Bioinformatics-Stronghold/PRSM--Matching-a-Spectrum-to-a-Protein/solution.ipynb\n",
      "/Users/eculbertson/rosalind-solutions/Bioinformatics-Stronghold/QRT--Quartets/solution.ipynb\n",
      "/Users/eculbertson/rosalind-solutions/Bioinformatics-Stronghold/SGRA--Using-the-Spectrum-Graph-to-Infer-Peptides/solution.ipynb\n",
      "/Users/eculbertson/rosalind-solutions/Bioinformatics-Stronghold/SUFF--Encoding-Suffix-Trees/solution.ipynb\n",
      "/Users/eculbertson/rosalind-solutions/Bioinformatics-Stronghold/CHBP--Character-Based-Phylogeny/solution.ipynb\n",
      "/Users/eculbertson/rosalind-solutions/Bioinformatics-Stronghold/CNTQ--Counting-Quartets/solution.ipynb\n",
      "/Users/eculbertson/rosalind-solutions/Bioinformatics-Stronghold/EUBT--Enumerating-Unrooted-Binary-Trees/solution.ipynb\n",
      "/Users/eculbertson/rosalind-solutions/Bioinformatics-Stronghold/GASM--Genome-Assembly-Using-Reads/solution.ipynb\n",
      "/Users/eculbertson/rosalind-solutions/Bioinformatics-Stronghold/GCON--Global-Alignment-with-Constant-Gap-Penalty/solution.ipynb\n",
      "/Users/eculbertson/rosalind-solutions/Bioinformatics-Stronghold/LING--Linguistic-Complexity-of-a-Genome/solution.ipynb\n",
      "/Users/eculbertson/rosalind-solutions/Bioinformatics-Stronghold/LOCA--Local-Alignment-with-Scoring-Matrix/solution.ipynb\n",
      "/Users/eculbertson/rosalind-solutions/Bioinformatics-Stronghold/MEND--Inferring-Genotype-from-a-Pedigree/solution.ipynb\n",
      "/Users/eculbertson/rosalind-solutions/Bioinformatics-Stronghold/MGAP--Maximizing-the-Gap-Symbols-of-an-Optimal-Alignment/solution.ipynb\n",
      "/Users/eculbertson/rosalind-solutions/Bioinformatics-Stronghold/MREP--Identifying-Maximal-Repeats/solution.ipynb\n",
      "/Users/eculbertson/rosalind-solutions/Bioinformatics-Stronghold/MULT--Multiple-Alignment/solution.ipynb\n",
      "/Users/eculbertson/rosalind-solutions/Bioinformatics-Stronghold/PDPL--Creating-a-Restriction-Map/solution.ipynb\n",
      "/Users/eculbertson/rosalind-solutions/Bioinformatics-Stronghold/ROOT--Counting-Rooted-Binary-Trees/solution.ipynb\n",
      "/Users/eculbertson/rosalind-solutions/Bioinformatics-Stronghold/SEXL--Sex-Linked-Inheritance/solution.ipynb\n",
      "/Users/eculbertson/rosalind-solutions/Bioinformatics-Stronghold/SPTD--Phylogeny-Comparison-with-Split-Distance/solution.ipynb\n",
      "/Users/eculbertson/rosalind-solutions/Bioinformatics-Stronghold/WFMD--The-Wright-Fisher-Model-of-Genetic-Drift/solution.ipynb\n",
      "/Users/eculbertson/rosalind-solutions/Bioinformatics-Stronghold/ALPH--Alignment-Based-Phylogeny/solution.ipynb\n",
      "/Users/eculbertson/rosalind-solutions/Bioinformatics-Stronghold/ASMQ--Assessing-Assembly-Quality-with-N50-and-N75/solution.ipynb\n",
      "/Users/eculbertson/rosalind-solutions/Bioinformatics-Stronghold/CSET--Fixing-an-Inconsistent-Character-Set/solution.ipynb\n",
      "/Users/eculbertson/rosalind-solutions/Bioinformatics-Stronghold/EBIN--Wright-Fisher's-Expected-Behavior/solution.ipynb\n",
      "/Users/eculbertson/rosalind-solutions/Bioinformatics-Stronghold/FOUN--The-Founder-Effect-and-Genetic-Drift/solution.ipynb\n",
      "/Users/eculbertson/rosalind-solutions/Bioinformatics-Stronghold/GAFF--Global-Alignment-with-Scoring-Matrix-and-Affine-Gap-Penalty/solution.ipynb\n",
      "/Users/eculbertson/rosalind-solutions/Bioinformatics-Stronghold/GREP--Genome-Assembly-with-Perfect-Coverage-and-Repeats/solution.ipynb\n",
      "/Users/eculbertson/rosalind-solutions/Bioinformatics-Stronghold/OAP--Overlap-Alignment/solution.ipynb\n",
      "/Users/eculbertson/rosalind-solutions/Bioinformatics-Stronghold/QRTD--Quartet-Distance/solution.ipynb\n",
      "/Users/eculbertson/rosalind-solutions/Bioinformatics-Stronghold/SIMS--Finding-a-Motif-with-Modifications/solution.ipynb\n",
      "/Users/eculbertson/rosalind-solutions/Bioinformatics-Stronghold/SMGB--Semiglobal-Alignment/solution.ipynb\n",
      "/Users/eculbertson/rosalind-solutions/Bioinformatics-Stronghold/KSIM--Finding-All-Similar-Motifs/solution.ipynb\n",
      "/Users/eculbertson/rosalind-solutions/Bioinformatics-Stronghold/LAFF--Local-Alignment-with-Affine-Gap-Penalty/solution.ipynb\n",
      "/Users/eculbertson/rosalind-solutions/Bioinformatics-Stronghold/OSYM--Isolating-Symbols-in-Alignments/solution.ipynb\n",
      "/Users/eculbertson/rosalind-solutions/Bioinformatics-Stronghold/RSUB--Identifying-Reversing-Substitutions/solution.ipynb\n"
     ]
    }
   ],
   "source": [
    "import os\n",
    "from shutil import copyfile\n",
    "i = 0\n",
    "directory = '/Users/eculbertson/rosalind-solutions/Bioinformatics-Stronghold/'\n",
    "for line in f1:\n",
    "    words = line.split('\\t')\n",
    "    if i % 2 == 0:\n",
    "        fn = words[0] + \"--\" + \"-\".join(words[1].split())\n",
    "        if not os.path.exists(directory + fn):\n",
    "            os.makedirs(directory + fn)\n",
    "        if not os.path.isfile(directory + fn + \"/solution.ipynb\"):\n",
    "            print(directory + fn+ \"/solution.ipynb\")\n",
    "            copyfile(directory + \"/DNA--Counting-DNA-Nucleotides/solution.ipynb\", \n",
    "                     directory + fn + \"/solution.ipynb\")\n",
    "    i+=1"
   ]
  },
  {
   "cell_type": "code",
   "execution_count": 23,
   "metadata": {},
   "outputs": [
    {
     "name": "stdout",
     "output_type": "stream",
     "text": [
      "/bin/sh: -c: line 0: unexpected EOF while looking for matching `''\r\n",
      "/bin/sh: -c: line 1: syntax error: unexpected end of file\r\n"
     ]
    }
   ],
   "source": [
    "!ls '~/rosalind-solutions/Bioinformatics-Stronghold/"
   ]
  },
  {
   "cell_type": "code",
   "execution_count": null,
   "metadata": {
    "collapsed": true
   },
   "outputs": [],
   "source": []
  }
 ],
 "metadata": {
  "kernelspec": {
   "display_name": "Python 3",
   "language": "python",
   "name": "python3"
  },
  "language_info": {
   "codemirror_mode": {
    "name": "ipython",
    "version": 3
   },
   "file_extension": ".py",
   "mimetype": "text/x-python",
   "name": "python",
   "nbconvert_exporter": "python",
   "pygments_lexer": "ipython3",
   "version": "3.6.2"
  }
 },
 "nbformat": 4,
 "nbformat_minor": 2
}
