{
 "cells": [
  {
   "cell_type": "markdown",
   "metadata": {},
   "source": [
    "# Finding a Motif in DNA\n",
    "\n",
    "## Problem\n",
    "\n",
    "Given two strings s and t, t is a substring of s if t is contained as a contiguous collection of symbols in s (as a result, t must be no longer than s).\n",
    "\n",
    "The position of a symbol in a string is the total number of symbols found to its left, including itself (e.g., the positions of all occurrences of 'U' in \"AUGCUUCAGAAAGGUCUUACG\" are 2, 5, 6, 15, 17, and 18). The symbol at position i of s is denoted by s[i].\n",
    "\n",
    "A substring of s can be represented as s[j:k], where j and k represent the starting and ending positions of the substring in s; for example, if s = \"AUGCUUCAGAAAGGUCUUACG\", then s[2:5] = \"UGCU\".\n",
    "\n",
    "The location of a substring s[j:k] is its beginning position j; note that t will have multiple locations in s if it occurs more than once as a substring of s (see the Sample below).\n",
    "\n",
    "**Given**: Two DNA strings s and t (each of length at most 1 kbp).\n",
    "\n",
    "**Return**: All locations of t as a substring of s."
   ]
  },
  {
   "cell_type": "code",
   "execution_count": 8,
   "metadata": {},
   "outputs": [],
   "source": [
    "# Sample Dataset\n",
    "s = '''GATATATGCATATACTT\n",
    "ATAT'''\n",
    "s, t = s.split()"
   ]
  },
  {
   "cell_type": "code",
   "execution_count": 19,
   "metadata": {},
   "outputs": [],
   "source": [
    "def solution(s, t):\n",
    "    idxs = [i+1 for i in range(len(s)-len(t)) if s[i: i + len(t)] == t]\n",
    "    print(*idxs, sep = ' ')"
   ]
  },
  {
   "cell_type": "code",
   "execution_count": 20,
   "metadata": {},
   "outputs": [
    {
     "name": "stdout",
     "output_type": "stream",
     "text": [
      "2 4 10\n"
     ]
    }
   ],
   "source": [
    "# Sample  Output\n",
    "solution(s, t)"
   ]
  },
  {
   "cell_type": "code",
   "execution_count": 25,
   "metadata": {},
   "outputs": [
    {
     "name": "stdout",
     "output_type": "stream",
     "text": [
      "15 42 49 56 63 81 88 95 102 124 146 176 202 219 246 272 289 324 352 384 427 434 447 458 465 472 479 486 493 567 587 594 602 650 738 754 761 768 820 847 854 861 872\n"
     ]
    }
   ],
   "source": [
    "f = open('/Users/eculbertson/Downloads/rosalind_subs.txt').readlines()\n",
    "s, t = f\n",
    "solution(s, t.strip())"
   ]
  }
 ],
 "metadata": {
  "kernelspec": {
   "display_name": "Python 3",
   "language": "python",
   "name": "python3"
  },
  "language_info": {
   "codemirror_mode": {
    "name": "ipython",
    "version": 3
   },
   "file_extension": ".py",
   "mimetype": "text/x-python",
   "name": "python",
   "nbconvert_exporter": "python",
   "pygments_lexer": "ipython3",
   "version": "3.6.2"
  }
 },
 "nbformat": 4,
 "nbformat_minor": 2
}
