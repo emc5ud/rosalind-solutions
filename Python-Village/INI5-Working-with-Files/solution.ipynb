{
 "cells": [
  {
   "cell_type": "markdown",
   "metadata": {},
   "source": [
    "# Conditions and Loops\n",
    "\n",
    "\n",
    "## Problem\n",
    "**Given**: Two positive integers *a* and *b* (*a*<*b*<10000).\n",
    "\n",
    "**Return**: The sum of all odd integers from *a* through *b*, inclusively."
   ]
  },
  {
   "cell_type": "code",
   "execution_count": 17,
   "metadata": {
    "collapsed": true
   },
   "outputs": [],
   "source": [
    "# Sample Dataset\n",
    "s = ['Bravely bold Sir Robin rode forth from Camelot',\n",
    "'Yes, brave Sir Robin turned about',\n",
    "'He was not afraid to die, O brave Sir Robin',\n",
    "'And gallantly he chickened out',\n",
    "'He was not at all afraid to be killed in nasty ways',\n",
    "'Bravely talking to his feet',\n",
    "'Brave, brave, brave, brave Sir Robin',\n",
    "'He beat a very brave retreat']"
   ]
  },
  {
   "cell_type": "code",
   "execution_count": 41,
   "metadata": {
    "collapsed": true
   },
   "outputs": [],
   "source": [
    "def solution(lines): \n",
    "    lines = [lines[n][:-1] for n in range(1, len(lines), 2)]\n",
    "    print('\\n'.join(lines))\n",
    "    #return lines"
   ]
  },
  {
   "cell_type": "code",
   "execution_count": 30,
   "metadata": {},
   "outputs": [
    {
     "name": "stdout",
     "output_type": "stream",
     "text": [
      "Yes, brave Sir Robin turned about\n",
      "And gallantly he chickened out\n",
      "Bravely talking to his feet\n",
      "He beat a very brave retreat\n"
     ]
    }
   ],
   "source": [
    "# Sample  Output\n",
    "solution(s)"
   ]
  },
  {
   "cell_type": "code",
   "execution_count": 42,
   "metadata": {},
   "outputs": [
    {
     "name": "stdout",
     "output_type": "stream",
     "text": [
      "Some things in life are bad, they can really make you ma\n",
      "Other things just make you swear and curs\n",
      "When you're chewing on life's gristle, don't grumble give a whistl\n",
      "This will help things turn out for the bes\n",
      "Always look on the bright side of lif\n",
      "Always look on the right side of lif\n",
      "If life seems jolly rotten, there's something you've forgotte\n",
      "And that's to laugh and smile and dance and sin\n",
      "When you're feeling in the dumps, don't be silly, chump\n",
      "Just purse your lips and whistle, that's the thin\n",
      "So, always look on the bright side of deat\n",
      "Just before you draw your terminal breat\n",
      "Life's a counterfeit and when you look at i\n",
      "Life's a laugh and death's the joke, it's tru\n",
      "You see, it's all a show, keep them laughing as you g\n",
      "Just remember the last laugh is on yo\n",
      "Always look on the bright side of lif\n",
      "And always look on the right side of lif\n",
      "Always look on the bright side of lif\n",
      "And always look on the right side of lif\n"
     ]
    }
   ],
   "source": [
    "f = open('/Users/eculbertson/Downloads/rosalind_ini5.txt').readlines()\n",
    "lines = list(map(lambda x: x.strip(), f))\n",
    "solution(lines)"
   ]
  },
  {
   "cell_type": "code",
   "execution_count": null,
   "metadata": {
    "collapsed": true
   },
   "outputs": [],
   "source": []
  }
 ],
 "metadata": {
  "kernelspec": {
   "display_name": "Python 3",
   "language": "python",
   "name": "python3"
  },
  "language_info": {
   "codemirror_mode": {
    "name": "ipython",
    "version": 3
   },
   "file_extension": ".py",
   "mimetype": "text/x-python",
   "name": "python",
   "nbconvert_exporter": "python",
   "pygments_lexer": "ipython3",
   "version": "3.6.2"
  }
 },
 "nbformat": 4,
 "nbformat_minor": 2
}
