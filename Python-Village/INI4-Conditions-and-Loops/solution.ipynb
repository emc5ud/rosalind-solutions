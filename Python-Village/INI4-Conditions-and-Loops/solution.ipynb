{
 "cells": [
  {
   "cell_type": "markdown",
   "metadata": {},
   "source": [
    "# Conditions and Loops\n",
    "\n",
    "\n",
    "## Problem\n",
    "**Given**: Two positive integers *a* and *b* (*a*<*b*<10000).\n",
    "\n",
    "**Return**: The sum of all odd integers from *a* through *b*, inclusively."
   ]
  },
  {
   "cell_type": "code",
   "execution_count": 1,
   "metadata": {
    "collapsed": true
   },
   "outputs": [],
   "source": [
    "# Sample Dataset\n",
    "s = '100 200'"
   ]
  },
  {
   "cell_type": "code",
   "execution_count": 4,
   "metadata": {
    "collapsed": true
   },
   "outputs": [],
   "source": [
    "def solution(s): \n",
    "    nums = list(map(int, s.split()))\n",
    "    print(sum(n * (n % 2) for n in range(nums[0], nums[1])))"
   ]
  },
  {
   "cell_type": "code",
   "execution_count": 5,
   "metadata": {},
   "outputs": [
    {
     "name": "stdout",
     "output_type": "stream",
     "text": [
      "7500\n"
     ]
    }
   ],
   "source": [
    "# Sample  Output\n",
    "solution(s)"
   ]
  },
  {
   "cell_type": "code",
   "execution_count": 6,
   "metadata": {},
   "outputs": [
    {
     "name": "stdout",
     "output_type": "stream",
     "text": [
      "14282307\n"
     ]
    }
   ],
   "source": [
    "f = open('/Users/eculbertson/Downloads/rosalind_ini4.txt').readlines()\n",
    "string = f[0].strip()\n",
    "solution(string)"
   ]
  },
  {
   "cell_type": "code",
   "execution_count": null,
   "metadata": {
    "collapsed": true
   },
   "outputs": [],
   "source": []
  }
 ],
 "metadata": {
  "kernelspec": {
   "display_name": "Python 3",
   "language": "python",
   "name": "python3"
  },
  "language_info": {
   "codemirror_mode": {
    "name": "ipython",
    "version": 3
   },
   "file_extension": ".py",
   "mimetype": "text/x-python",
   "name": "python",
   "nbconvert_exporter": "python",
   "pygments_lexer": "ipython3",
   "version": "3.6.2"
  }
 },
 "nbformat": 4,
 "nbformat_minor": 2
}
